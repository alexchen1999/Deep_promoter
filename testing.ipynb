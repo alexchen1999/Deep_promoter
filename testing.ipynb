{
  "nbformat": 4,
  "nbformat_minor": 0,
  "metadata": {
    "colab": {
      "provenance": [],
      "gpuType": "T4",
      "include_colab_link": true
    },
    "kernelspec": {
      "name": "python3",
      "display_name": "Python 3"
    },
    "language_info": {
      "name": "python"
    },
    "accelerator": "GPU"
  },
  "cells": [
    {
      "cell_type": "markdown",
      "metadata": {
        "id": "view-in-github",
        "colab_type": "text"
      },
      "source": [
        "<a href=\"https://colab.research.google.com/github/alexchen1999/Deep_promoter/blob/master/testing.ipynb\" target=\"_parent\"><img src=\"https://colab.research.google.com/assets/colab-badge.svg\" alt=\"Open In Colab\"/></a>"
      ]
    },
    {
      "cell_type": "code",
      "source": [
        "import os\n",
        "import tensorflow"
      ],
      "metadata": {
        "id": "HiPyYuOCjunh"
      },
      "execution_count": 1,
      "outputs": []
    },
    {
      "cell_type": "code",
      "source": [
        "from google.colab import drive\n",
        "drive.mount('/content/drive',force_remount=True)"
      ],
      "metadata": {
        "colab": {
          "base_uri": "https://localhost:8080/"
        },
        "id": "d0rEl8RF7hMn",
        "outputId": "a57aacfd-5cda-438d-c305-9a7e26ab5a93"
      },
      "execution_count": 2,
      "outputs": [
        {
          "output_type": "stream",
          "name": "stdout",
          "text": [
            "Mounted at /content/drive\n"
          ]
        }
      ]
    },
    {
      "cell_type": "code",
      "source": [
        "# Change runtime to GPU before running this cell\n",
        "\n",
        "repo_path_in_drive = '/content/drive/My Drive/Github/Deep_promoter/'\n",
        "DIRECTORY = repo_path_in_drive\n",
        "os.chdir(repo_path_in_drive)\n",
        "\n",
        "print(os.listdir(DIRECTORY))\n",
        "\n",
        "!python gan_language.py"
      ],
      "metadata": {
        "id": "xrUOZYuUjyov",
        "colab": {
          "base_uri": "https://localhost:8080/"
        },
        "outputId": "df320284-b699-496b-bfc9-b2e8c686e2f5"
      },
      "execution_count": 3,
      "outputs": [
        {
          "output_type": "stream",
          "name": "stdout",
          "text": [
            "['.git', '.gitignore', 'LICENSE', 'README.md', 'gan_language.py', 'language_helpers.py', 'predictor.py', 'seq', 'structure.png', 'tflib', 'testing.ipynb']\n",
            "2024-02-05 06:23:00.654799: E external/local_xla/xla/stream_executor/cuda/cuda_dnn.cc:9261] Unable to register cuDNN factory: Attempting to register factory for plugin cuDNN when one has already been registered\n",
            "2024-02-05 06:23:00.654861: E external/local_xla/xla/stream_executor/cuda/cuda_fft.cc:607] Unable to register cuFFT factory: Attempting to register factory for plugin cuFFT when one has already been registered\n",
            "2024-02-05 06:23:00.656620: E external/local_xla/xla/stream_executor/cuda/cuda_blas.cc:1515] Unable to register cuBLAS factory: Attempting to register factory for plugin cuBLAS when one has already been registered\n",
            "2024-02-05 06:23:02.119102: W tensorflow/compiler/tf2tensorrt/utils/py_utils.cc:38] TF-TRT Warning: Could not find TensorRT\n",
            "Uppercase local vars:\n",
            "\tBATCH_SIZE: 32\n",
            "\tCRITIC_ITERS: 5\n",
            "\tDATA_DIR: /content/drive/My Drive/Github/Deep_promoter/seq\n",
            "\tDIM: 512\n",
            "\tITERS: 200000\n",
            "\tLAMBDA: 10\n",
            "\tMAX_N_EXAMPLES: 14098\n",
            "\tSEQ_LEN: 50\n",
            "loading dataset...\n",
            "('C', 'A', 'T', 'C', 'A', 'C', 'C', 'T', 'T', 'T', 'A', 'A', 'T', 'G', 'T', 'C', 'A', 'T', 'A', 'A', 'G', 'T', 'A', 'A', 'A', 'T', 'A', 'T', 'T', 'G', 'A', 'A', 'A', 'T', 'G', 'C', 'T', 'A', 'T', 'A', 'A', 'T', 'C', 'C', 'C', 'C', 'G', 'A', 'T', 'C')\n",
            "('A', 'T', 'G', 'G', 'G', 'C', 'G', 'T', 'T', 'A', 'T', 'G', 'A', 'A', 'A', 'C', 'C', 'A', 'T', 'C', 'T', 'C', 'G', 'A', 'T', 'G', 'G', 'C', 'G', 'A', 'T', 'C', 'A', 'G', 'C', 'A', 'G', 'T', 'A', 'T', 'G', 'A', 'T', 'C', 'G', 'G', 'C', 'G', 'A', 'T')\n",
            "('G', 'C', 'C', 'G', 'T', 'T', 'C', 'G', 'T', 'C', 'A', 'C', 'G', 'G', 'T', 'T', 'T', 'T', 'C', 'C', 'G', 'A', 'A', 'A', 'C', 'A', 'T', 'C', 'A', 'A', 'T', 'A', 'A', 'C', 'A', 'A', 'T', 'G', 'A', 'T', 'A', 'C', 'G', 'T', 'T', 'G', 'A', 'T', 'G', 'G')\n",
            "('C', 'A', 'T', 'G', 'C', 'A', 'G', 'C', 'G', 'G', 'C', 'A', 'G', 'A', 'T', 'T', 'G', 'C', 'G', 'T', 'T', 'C', 'C', 'G', 'C', 'C', 'A', 'T', 'A', 'C', 'C', 'A', 'T', 'C', 'G', 'A', 'T', 'A', 'A', 'A', 'G', 'C', 'T', 'G', 'T', 'T', 'T', 'A', 'C', 'C')\n",
            "('C', 'C', 'G', 'C', 'G', 'T', 'T', 'G', 'A', 'A', 'G', 'C', 'A', 'A', 'T', 'A', 'C', 'C', 'T', 'G', 'C', 'C', 'G', 'C', 'A', 'A', 'A', 'T', 'G', 'C', 'A', 'A', 'A', 'A', 'A', 'G', 'A', 'A', 'T', 'A', 'T', 'G', 'C', 'T', 'T', 'A', 'C', 'T', 'G', 'G')\n",
            "('A', 'A', 'A', 'A', 'G', 'C', 'C', 'T', 'G', 'C', 'C', 'A', 'G', 'A', 'T', 'G', 'G', 'C', 'A', 'G', 'G', 'C', 'T', 'A', 'T', 'T', 'T', 'A', 'A', 'T', 'A', 'A', 'C', 'G', 'G', 'C', 'G', 'T', 'T', 'A', 'T', 'T', 'A', 'T', 'T', 'G', 'C', 'A', 'A', 'C')\n",
            "('T', 'C', 'A', 'C', 'T', 'A', 'C', 'C', 'T', 'G', 'G', 'C', 'G', 'T', 'G', 'C', 'A', 'G', 'A', 'G', 'C', 'T', 'G', 'G', 'A', 'T', 'G', 'G', 'T', 'A', 'A', 'A', 'C', 'C', 'T', 'G', 'T', 'T', 'A', 'T', 'C', 'G', 'T', 'C', 'T', 'G', 'C', 'T', 'C', 'T')\n",
            "('T', 'T', 'T', 'T', 'T', 'T', 'A', 'T', 'A', 'T', 'T', 'T', 'C', 'C', 'C', 'G', 'C', 'C', 'A', 'A', 'A', 'C', 'C', 'T', 'G', 'G', 'C', 'A', 'A', 'G', 'A', 'G', 'T', 'G', 'G', 'T', 'G', 'C', 'G', 'A', 'T', 'T', 'G', 'T', 'T', 'G', 'C', 'T', 'C', 'T')\n",
            "('A', 'C', 'G', 'A', 'G', 'G', 'T', 'G', 'A', 'A', 'G', 'A', 'C', 'C', 'T', 'T', 'T', 'G', 'A', 'T', 'A', 'A', 'T', 'C', 'A', 'G', 'C', 'G', 'A', 'A', 'A', 'T', 'G', 'C', 'A', 'A', 'C', 'G', 'C', 'A', 'A', 'G', 'C', 'T', 'T', 'G', 'C', 'C', 'A', 'C')\n",
            "('G', 'G', 'T', 'A', 'A', 'A', 'C', 'C', 'A', 'T', 'T', 'A', 'A', 'C', 'T', 'C', 'G', 'C', 'G', 'C', 'G', 'A', 'C', 'G', 'G', 'A', 'C', 'A', 'A', 'C', 'G', 'C', 'A', 'T', 'C', 'G', 'G', 'T', 'T', 'A', 'C', 'T', 'G', 'T', 'A', 'A', 'A', 'A', 'G', 'A')\n",
            "('A', 'A', 'G', 'G', 'C', 'G', 'A', 'T', 'A', 'A', 'T', 'G', 'T', 'G', 'G', 'T', 'G', 'A', 'T', 'T', 'A', 'A', 'T', 'C', 'T', 'G', 'G', 'C', 'G', 'T', 'C', 'A', 'G', 'A', 'T', 'G', 'A', 'G', 'T', 'A', 'T', 'T', 'T', 'T', 'A', 'A', 'A', 'T', 'C', 'G')\n",
            "('C', 'G', 'T', 'T', 'C', 'C', 'A', 'T', 'G', 'G', 'G', 'C', 'C', 'T', 'G', 'G', 'T', 'A', 'G', 'T', 'G', 'G', 'A', 'G', 'G', 'A', 'C', 'T', 'A', 'A', 'G', 'A', 'A', 'A', 'T', 'G', 'G', 'C', 'T', 'A', 'A', 'A', 'C', 'T', 'G', 'A', 'C', 'C', 'A', 'A')\n",
            "('C', 'G', 'T', 'C', 'G', 'G', 'C', 'G', 'T', 'G', 'A', 'C', 'G', 'G', 'T', 'T', 'C', 'A', 'T', 'T', 'C', 'A', 'C', 'G', 'C', 'C', 'G', 'T', 'T', 'T', 'T', 'C', 'A', 'T', 'C', 'T', 'T', 'T', 'A', 'T', 'A', 'C', 'T', 'G', 'C', 'A', 'T', 'A', 'A', 'C')\n",
            "('G', 'A', 'T', 'G', 'C', 'G', 'G', 'C', 'G', 'T', 'T', 'G', 'T', 'T', 'G', 'G', 'T', 'G', 'T', 'T', 'G', 'A', 'T', 'T', 'G', 'A', 'A', 'G', 'T', 'C', 'G', 'A', 'A', 'G', 'A', 'G', 'T', 'G', 'G', 'C', 'T', 'G', 'C', 'C', 'G', 'C', 'C', 'G', 'G', 'A')\n",
            "('T', 'T', 'G', 'C', 'A', 'A', 'T', 'G', 'A', 'A', 'G', 'A', 'G', 'T', 'G', 'C', 'A', 'T', 'T', 'C', 'C', 'G', 'G', 'T', 'T', 'T', 'T', 'T', 'C', 'A', 'A', 'C', 'A', 'G', 'C', 'T', 'G', 'T', 'T', 'A', 'C', 'A', 'G', 'T', 'C', 'A', 'T', 'T', 'T', 'C')\n",
            "('C', 'G', 'A', 'A', 'A', 'A', 'T', 'T', 'G', 'A', 'T', 'C', 'A', 'A', 'A', 'C', 'A', 'T', 'A', 'C', 'G', 'T', 'A', 'T', 'T', 'A', 'T', 'C', 'T', 'T', 'G', 'C', 'T', 'T', 'T', 'A', 'A', 'T', 'T', 'A', 'A', 'T', 'T', 'A', 'C', 'A', 'C', 'T', 'A', 'A')\n",
            "('C', 'C', 'G', 'T', 'C', 'A', 'G', 'A', 'G', 'A', 'A', 'A', 'A', 'C', 'G', 'T', 'G', 'C', 'T', 'C', 'C', 'A', 'G', 'C', 'C', 'C', 'A', 'A', 'A', 'A', 'A', 'A', 'A', 'C', 'G', 'T', 'T', 'A', 'C', 'A', 'A', 'T', 'T', 'G', 'C', 'C', 'G', 'C', 'C', 'C')\n",
            "('A', 'C', 'A', 'A', 'G', 'C', 'T', 'G', 'G', 'T', 'A', 'T', 'T', 'A', 'A', 'C', 'C', 'G', 'A', 'C', 'A', 'G', 'C', 'A', 'A', 'A', 'G', 'G', 'T', 'G', 'A', 'A', 'A', 'A', 'G', 'T', 'C', 'A', 'T', 'A', 'T', 'T', 'A', 'T', 'C', 'G', 'G', 'G', 'C', 'G')\n",
            "('T', 'T', 'A', 'G', 'T', 'C', 'G', 'G', 'T', 'C', 'A', 'G', 'C', 'G', 'T', 'T', 'C', 'A', 'T', 'C', 'A', 'C', 'A', 'G', 'G', 'G', 'T', 'T', 'G', 'G', 'C', 'A', 'A', 'G', 'G', 'C', 'G', 'A', 'T', 'A', 'T', 'C', 'A', 'T', 'T', 'C', 'C', 'A', 'T', 'T')\n",
            "('G', 'G', 'G', 'C', 'G', 'A', 'A', 'A', 'G', 'G', 'G', 'A', 'A', 'C', 'A', 'A', 'T', 'G', 'C', 'T', 'T', 'C', 'G', 'C', 'C', 'T', 'G', 'C', 'C', 'G', 'G', 'G', 'A', 'G', 'T', 'G', 'G', 'T', 'A', 'A', 'T', 'A', 'C', 'T', 'A', 'A', 'A', 'A', 'A', 'C')\n",
            "('G', 'C', 'G', 'T', 'C', 'C', 'G', 'G', 'A', 'T', 'T', 'G', 'T', 'A', 'T', 'T', 'T', 'G', 'C', 'T', 'T', 'A', 'C', 'C', 'G', 'G', 'A', 'A', 'T', 'T', 'G', 'A', 'G', 'T', 'G', 'A', 'C', 'C', 'A', 'A', 'T', 'A', 'T', 'A', 'G', 'G', 'T', 'C', 'T', 'C')\n",
            "('G', 'C', 'C', 'T', 'T', 'T', 'A', 'A', 'A', 'A', 'C', 'A', 'G', 'T', 'G', 'A', 'T', 'T', 'T', 'T', 'A', 'A', 'A', 'A', 'A', 'T', 'C', 'G', 'C', 'T', 'T', 'A', 'G', 'G', 'G', 'G', 'A', 'T', 'G', 'T', 'T', 'A', 'T', 'G', 'C', 'T', 'C', 'A', 'C', 'G')\n",
            "('T', 'G', 'A', 'G', 'G', 'T', 'A', 'G', 'C', 'C', 'T', 'G', 'A', 'G', 'T', 'T', 'T', 'A', 'A', 'C', 'G', 'G', 'A', 'C', 'A', 'C', 'T', 'C', 'C', 'T', 'T', 'C', 'C', 'T', 'G', 'A', 'A', 'A', 'T', 'A', 'G', 'A', 'A', 'T', 'G', 'G', 'C', 'A', 'T', 'C')\n",
            "('G', 'G', 'T', 'G', 'T', 'G', 'A', 'T', 'C', 'A', 'C', 'C', 'T', 'C', 'A', 'A', 'A', 'A', 'A', 'C', 'C', 'G', 'G', 'T', 'G', 'C', 'T', 'G', 'C', 'G', 'C', 'T', 'A', 'C', 'A', 'T', 'G', 'A', 'T', 'A', 'T', 'T', 'T', 'T', 'G', 'C', 'A', 'T', 'G', 'T')\n",
            "('G', 'A', 'T', 'G', 'C', 'T', 'T', 'A', 'G', 'C', 'A', 'A', 'A', 'A', 'A', 'T', 'T', 'G', 'C', 'C', 'A', 'G', 'A', 'G', 'G', 'T', 'T', 'A', 'A', 'G', 'G', 'A', 'T', 'T', 'G', 'T', 'C', 'T', 'T', 'A', 'C', 'T', 'A', 'T', 'T', 'A', 'A', 'A', 'G', 'T')\n",
            "('C', 'C', 'T', 'G', 'G', 'C', 'T', 'T', 'T', 'T', 'T', 'C', 'C', 'G', 'T', 'G', 'C', 'G', 'G', 'C', 'G', 'T', 'A', 'A', 'C', 'G', 'T', 'C', 'C', 'C', 'G', 'G', 'C', 'C', 'G', 'G', 'T', 'T', 'T', 'A', 'A', 'C', 'A', 'T', 'A', 'A', 'C', 'G', 'A', 'G')\n",
            "('G', 'G', 'C', 'C', 'T', 'C', 'G', 'C', 'C', 'A', 'C', 'G', 'A', 'A', 'C', 'T', 'A', 'C', 'G', 'C', 'G', 'A', 'T', 'T', 'A', 'T', 'G', 'G', 'C', 'G', 'G', 'C', 'G', 'T', 'A', 'C', 'G', 'G', 'T', 'A', 'A', 'G', 'C', 'T', 'G', 'A', 'T', 'G', 'C', 'T')\n",
            "('T', 'G', 'G', 'C', 'G', 'C', 'A', 'A', 'A', 'A', 'C', 'A', 'T', 'C', 'A', 'G', 'C', 'C', 'A', 'G', 'T', 'T', 'C', 'G', 'C', 'C', 'C', 'A', 'T', 'A', 'A', 'A', 'C', 'C', 'G', 'T', 'T', 'T', 'A', 'T', 'T', 'G', 'T', 'G', 'T', 'T', 'C', 'A', 'T', 'C')\n",
            "('G', 'A', 'A', 'G', 'G', 'T', 'A', 'C', 'A', 'A', 'A', 'A', 'A', 'A', 'T', 'T', 'A', 'A', 'C', 'G', 'T', 'T', 'T', 'T', 'A', 'G', 'C', 'A', 'A', 'T', 'A', 'G', 'C', 'T', 'A', 'T', 'A', 'T', 'A', 'A', 'T', 'A', 'T', 'A', 'G', 'C', 'C', 'T', 'G', 'T')\n",
            "('C', 'C', 'C', 'C', 'C', 'T', 'G', 'C', 'G', 'C', 'G', 'C', 'T', 'C', 'C', 'T', 'T', 'G', 'C', 'G', 'C', 'C', 'A', 'G', 'T', 'G', 'G', 'C', 'A', 'A', 'T', 'A', 'T', 'G', 'T', 'T', 'G', 'C', 'T', 'T', 'A', 'G', 'C', 'T', 'C', 'A', 'T', 'G', 'A', 'A')\n",
            "('T', 'A', 'C', 'G', 'G', 'G', 'G', 'C', 'G', 'G', 'G', 'T', 'G', 'G', 'T', 'G', 'G', 'A', 'G', 'C', 'A', 'A', 'C', 'T', 'G', 'A', 'A', 'C', 'C', 'C', 'G', 'G', 'C', 'A', 'G', 'G', 'G', 'T', 'T', 'A', 'A', 'G', 'C', 'T', 'A', 'C', 'C', 'G', 'C', 'T')\n",
            "('T', 'T', 'G', 'C', 'G', 'G', 'T', 'T', 'G', 'C', 'A', 'G', 'G', 'A', 'A', 'T', 'C', 'G', 'T', 'G', 'T', 'T', 'T', 'A', 'T', 'C', 'G', 'C', 'C', 'A', 'G', 'T', 'A', 'T', 'T', 'C', 'T', 'G', 'G', 'T', 'A', 'C', 'C', 'G', 'T', 'T', 'T', 'A', 'C', 'T')\n",
            "('G', 'C', 'A', 'A', 'A', 'A', 'G', 'A', 'C', 'T', 'A', 'T', 'T', 'G', 'T', 'C', 'T', 'G', 'A', 'A', 'A', 'G', 'T', 'G', 'A', 'A', 'G', 'T', 'C', 'C', 'T', 'T', 'G', 'T', 'G', 'A', 'A', 'G', 'T', 'A', 'T', 'G', 'A', 'T', 'G', 'G', 'C', 'G', 'G', 'G')\n",
            "('G', 'T', 'A', 'T', 'C', 'G', 'G', 'T', 'T', 'G', 'C', 'T', 'G', 'C', 'C', 'T', 'G', 'T', 'A', 'C', 'G', 'G', 'C', 'G', 'C', 'T', 'G', 'C', 'C', 'T', 'G', 'C', 'A', 'C', 'C', 'T', 'A', 'T', 'G', 'A', 'T', 'A', 'A', 'T', 'T', 'C', 'G', 'C', 'C', 'T')\n",
            "('G', 'A', 'C', 'A', 'G', 'C', 'A', 'A', 'T', 'C', 'T', 'G', 'T', 'C', 'G', 'C', 'T', 'A', 'A', 'G', 'G', 'A', 'A', 'C', 'A', 'A', 'T', 'A', 'G', 'A', 'T', 'T', 'A', 'T', 'G', 'A', 'A', 'A', 'T', 'A', 'C', 'A', 'A', 'T', 'A', 'A', 'C', 'A', 'T', 'T')\n",
            "('G', 'C', 'C', 'A', 'A', 'T', 'G', 'C', 'A', 'A', 'C', 'T', 'G', 'G', 'T', 'T', 'A', 'A', 'C', 'G', 'G', 'C', 'G', 'A', 'T', 'G', 'A', 'A', 'G', 'T', 'A', 'T', 'T', 'A', 'A', 'C', 'G', 'C', 'T', 'A', 'A', 'A', 'G', 'T', 'T', 'T', 'G', 'A', 'T', 'T')\n",
            "('T', 'T', 'T', 'C', 'T', 'G', 'C', 'C', 'A', 'T', 'T', 'C', 'A', 'A', 'T', 'C', 'G', 'A', 'A', 'A', 'C', 'G', 'C', 'T', 'G', 'C', 'G', 'A', 'T', 'T', 'C', 'A', 'A', 'C', 'C', 'G', 'C', 'T', 'A', 'T', 'A', 'C', 'C', 'T', 'G', 'C', 'T', 'A', 'T', 'C')\n",
            "('G', 'G', 'C', 'G', 'T', 'G', 'G', 'C', 'T', 'A', 'T', 'G', 'G', 'T', 'G', 'A', 'T', 'T', 'A', 'T', 'T', 'T', 'T', 'T', 'C', 'T', 'G', 'T', 'T', 'T', 'A', 'T', 'C', 'T', 'A', 'T', 'T', 'C', 'T', 'A', 'A', 'A', 'A', 'T', 'T', 'A', 'C', 'A', 'C', 'C')\n",
            "('T', 'C', 'A', 'T', 'A', 'T', 'G', 'C', 'C', 'T', 'G', 'A', 'C', 'G', 'G', 'A', 'G', 'T', 'T', 'C', 'A', 'C', 'A', 'C', 'T', 'T', 'G', 'T', 'A', 'A', 'G', 'T', 'T', 'T', 'T', 'C', 'A', 'A', 'C', 'T', 'A', 'C', 'G', 'T', 'T', 'G', 'T', 'A', 'G', 'A')\n",
            "('A', 'A', 'C', 'C', 'G', 'C', 'T', 'A', 'T', 'G', 'T', 'G', 'G', 'T', 'C', 'G', 'A', 'T', 'A', 'G', 'C', 'T', 'T', 'G', 'C', 'G', 'T', 'G', 'A', 'G', 'C', 'G', 'T', 'G', 'G', 'G', 'G', 'C', 'T', 'A', 'T', 'C', 'T', 'T', 'T', 'A', 'T', 'T', 'G', 'A')\n",
            "('T', 'G', 'C', 'C', 'G', 'T', 'T', 'T', 'T', 'T', 'C', 'C', 'T', 'C', 'G', 'T', 'T', 'T', 'A', 'C', 'A', 'A', 'C', 'G', 'C', 'G', 'T', 'G', 'C', 'G', 'C', 'T', 'G', 'G', 'A', 'C', 'A', 'T', 'T', 'A', 'C', 'C', 'A', 'T', 'C', 'C', 'T', 'C', 'C', 'T')\n",
            "('T', 'T', 'C', 'C', 'A', 'G', 'C', 'G', 'T', 'T', 'G', 'G', 'T', 'T', 'T', 'G', 'G', 'T', 'G', 'T', 'G', 'A', 'A', 'C', 'C', 'T', 'G', 'A', 'T', 'C', 'G', 'T', 'T', 'T', 'C', 'C', 'C', 'G', 'T', 'A', 'A', 'G', 'A', 'T', 'G', 'G', 'T', 'C', 'G', 'T')\n",
            "('C', 'A', 'C', 'C', 'A', 'G', 'C', 'G', 'C', 'C', 'A', 'C', 'C', 'A', 'G', 'T', 'T', 'T', 'G', 'T', 'A', 'A', 'C', 'C', 'G', 'A', 'G', 'G', 'C', 'T', 'T', 'A', 'A', 'A', 'C', 'T', 'G', 'A', 'T', 'A', 'G', 'G', 'C', 'T', 'C', 'G', 'A', 'T', 'C', 'A')\n",
            "('A', 'G', 'A', 'C', 'A', 'G', 'C', 'C', 'G', 'G', 'A', 'A', 'A', 'A', 'A', 'T', 'T', 'G', 'C', 'T', 'T', 'T', 'T', 'G', 'T', 'T', 'A', 'C', 'A', 'A', 'C', 'C', 'A', 'T', 'T', 'T', 'A', 'C', 'T', 'A', 'C', 'G', 'A', 'T', 'G', 'C', 'A', 'A', 'C', 'C')\n",
            "('C', 'C', 'G', 'T', 'A', 'A', 'G', 'G', 'T', 'G', 'C', 'G', 'C', 'C', 'A', 'T', 'T', 'G', 'G', 'C', 'A', 'A', 'C', 'G', 'A', 'T', 'C', 'A', 'C', 'G', 'A', 'T', 'T', 'T', 'T', 'T', 'T', 'G', 'C', 'A', 'T', 'T', 'A', 'T', 'T', 'T', 'A', 'C', 'T', 'C')\n",
            "('G', 'C', 'T', 'G', 'A', 'C', 'T', 'A', 'C', 'T', 'G', 'G', 'T', 'A', 'C', 'A', 'A', 'G', 'T', 'A', 'T', 'G', 'T', 'T', 'G', 'G', 'C', 'C', 'T', 'G', 'A', 'A', 'C', 'G', 'G', 'T', 'G', 'C', 'T', 'A', 'T', 'C', 'G', 'T', 'C', 'G', 'G', 'T', 'A', 'T')\n",
            "('A', 'C', 'A', 'C', 'A', 'C', 'T', 'G', 'A', 'T', 'A', 'C', 'T', 'C', 'A', 'G', 'T', 'G', 'A', 'T', 'A', 'A', 'C', 'G', 'G', 'C', 'G', 'G', 'C', 'A', 'G', 'A', 'A', 'G', 'C', 'C', 'T', 'G', 'T', 'A', 'T', 'T', 'T', 'T', 'G', 'A', 'G', 'C', 'A', 'C')\n",
            "('T', 'C', 'G', 'G', 'C', 'G', 'A', 'A', 'A', 'A', 'A', 'T', 'T', 'G', 'T', 'T', 'G', 'A', 'T', 'C', 'G', 'G', 'C', 'G', 'G', 'G', 'C', 'A', 'A', 'G', 'C', 'C', 'T', 'G', 'G', 'T', 'G', 'C', 'T', 'T', 'T', 'C', 'A', 'T', 'G', 'A', 'A', 'A', 'G', 'T')\n",
            "('T', 'C', 'T', 'T', 'G', 'A', 'T', 'T', 'T', 'T', 'A', 'A', 'T', 'C', 'A', 'G', 'C', 'A', 'T', 'T', 'C', 'A', 'T', 'C', 'G', 'C', 'C', 'A', 'A', 'T', 'T', 'T', 'A', 'T', 'T', 'G', 'G', 'G', 'C', 'A', 'T', 'A', 'T', 'T', 'T', 'T', 'T', 'T', 'C', 'C')\n",
            "('G', 'C', 'G', 'T', 'G', 'G', 'C', 'G', 'C', 'T', 'G', 'T', 'T', 'G', 'C', 'T', 'G', 'G', 'C', 'G', 'C', 'T', 'G', 'G', 'C', 'A', 'G', 'A', 'A', 'G', 'A', 'A', 'C', 'G', 'C', 'G', 'A', 'T', 'A', 'T', 'T', 'A', 'T', 'C', 'C', 'T', 'G', 'C', 'T', 'G')\n",
            "('C', 'G', 'C', 'A', 'G', 'A', 'G', 'A', 'T', 'G', 'G', 'C', 'G', 'C', 'G', 'G', 'T', 'A', 'A', 'G', 'T', 'T', 'G', 'T', 'T', 'G', 'A', 'C', 'T', 'T', 'A', 'A', 'A', 'A', 'T', 'G', 'T', 'C', 'G', 'T', 'T', 'C', 'T', 'A', 'G', 'G', 'A', 'A', 'C', 'T')\n",
            "('T', 'A', 'G', 'G', 'G', 'C', 'G', 'T', 'G', 'T', 'C', 'T', 'G', 'T', 'A', 'T', 'G', 'T', 'A', 'G', 'A', 'T', 'T', 'T', 'G', 'T', 'T', 'C', 'G', 'A', 'C', 'A', 'A', 'C', 'G', 'C', 'T', 'T', 'T', 'A', 'T', 'A', 'G', 'T', 'A', 'C', 'C', 'C', 'T', 'T')\n",
            "('A', 'A', 'T', 'G', 'G', 'C', 'G', 'A', 'A', 'C', 'A', 'A', 'A', 'T', 'A', 'A', 'C', 'A', 'C', 'T', 'G', 'C', 'A', 'T', 'G', 'G', 'C', 'A', 'A', 'C', 'T', 'G', 'T', 'A', 'T', 'T', 'A', 'T', 'A', 'T', 'T', 'C', 'T', 'T', 'A', 'A', 'A', 'G', 'C', 'C')\n",
            "('A', 'C', 'G', 'C', 'C', 'C', 'C', 'C', 'C', 'A', 'A', 'C', 'T', 'G', 'A', 'G', 'G', 'C', 'A', 'C', 'C', 'A', 'G', 'G', 'C', 'C', 'A', 'T', 'C', 'A', 'G', 'A', 'A', 'A', 'A', 'G', 'T', 'G', 'A', 'T', 'A', 'A', 'T', 'C', 'A', 'G', 'G', 'C', 'G', 'C')\n",
            "('T', 'C', 'G', 'C', 'A', 'A', 'G', 'G', 'T', 'A', 'A', 'A', 'A', 'A', 'A', 'A', 'A', 'G', 'C', 'A', 'C', 'C', 'G', 'C', 'A', 'A', 'T', 'T', 'A', 'G', 'G', 'C', 'G', 'G', 'T', 'G', 'C', 'T', 'A', 'C', 'A', 'T', 'T', 'A', 'A', 'T', 'C', 'A', 'C', 'T')\n",
            "('C', 'T', 'T', 'A', 'T', 'G', 'C', 'A', 'A', 'C', 'C', 'A', 'T', 'G', 'C', 'T', 'T', 'C', 'C', 'A', 'G', 'A', 'G', 'C', 'G', 'G', 'C', 'A', 'A', 'C', 'A', 'C', 'T', 'G', 'C', 'G', 'T', 'G', 'T', 'A', 'A', 'T', 'T', 'T', 'C', 'T', 'T', 'C', 'G', 'T')\n",
            "('A', 'A', 'A', 'C', 'T', 'C', 'G', 'T', 'C', 'A', 'C', 'T', 'T', 'G', 'A', 'A', 'C', 'A', 'A', 'A', 'A', 'T', 'T', 'G', 'C', 'A', 'C', 'G', 'G', 'A', 'C', 'A', 'G', 'G', 'G', 'A', 'C', 'T', 'G', 'T', 'T', 'A', 'A', 'A', 'A', 'T', 'G', 'C', 'C', 'A')\n",
            "('G', 'T', 'G', 'A', 'A', 'A', 'A', 'T', 'G', 'G', 'C', 'C', 'T', 'G', 'A', 'A', 'A', 'G', 'C', 'C', 'T', 'T', 'C', 'G', 'A', 'A', 'C', 'G', 'C', 'G', 'C', 'C', 'T', 'T', 'C', 'G', 'G', 'T', 'A', 'A', 'T', 'A', 'A', 'T', 'C', 'A', 'C', 'C', 'T', 'T')\n",
            "('C', 'T', 'T', 'T', 'T', 'G', 'T', 'G', 'C', 'T', 'C', 'T', 'G', 'A', 'C', 'T', 'T', 'C', 'C', 'G', 'C', 'C', 'A', 'T', 'C', 'A', 'A', 'T', 'C', 'C', 'C', 'T', 'A', 'T', 'G', 'A', 'T', 'G', 'T', 'A', 'T', 'T', 'T', 'T', 'T', 'T', 'C', 'G', 'A', 'C')\n",
            "('C', 'G', 'G', 'C', 'G', 'A', 'G', 'A', 'T', 'T', 'G', 'A', 'T', 'G', 'T', 'T', 'T', 'A', 'C', 'C', 'G', 'C', 'A', 'C', 'C', 'G', 'G', 'C', 'T', 'C', 'C', 'G', 'T', 'C', 'G', 'A', 'T', 'G', 'T', 'A', 'A', 'C', 'T', 'T', 'C', 'A', 'C', 'C', 'G', 'C')\n",
            "('A', 'G', 'T', 'C', 'A', 'G', 'C', 'A', 'G', 'C', 'G', 'T', 'G', 'G', 'C', 'A', 'C', 'T', 'T', 'G', 'C', 'T', 'A', 'A', 'G', 'G', 'A', 'G', 'A', 'G', 'C', 'G', 'T', 'A', 'A', 'G', 'G', 'T', 'T', 'T', 'A', 'T', 'A', 'A', 'T', 'G', 'C', 'C', 'T', 'T')\n",
            "('T', 'C', 'C', 'A', 'T', 'G', 'C', 'T', 'G', 'G', 'A', 'A', 'C', 'A', 'C', 'A', 'G', 'C', 'T', 'T', 'A', 'G', 'C', 'C', 'C', 'C', 'G', 'G', 'A', 'G', 'G', 'A', 'T', 'G', 'G', 'G', 'A', 'T', 'A', 'T', 'A', 'A', 'T', 'A', 'C', 'C', 'T', 'G', 'G', 'C')\n",
            "('C', 'A', 'C', 'G', 'C', 'C', 'C', 'T', 'A', 'T', 'T', 'A', 'T', 'C', 'A', 'T', 'C', 'T', 'A', 'T', 'T', 'T', 'T', 'C', 'A', 'G', 'A', 'C', 'T', 'C', 'T', 'T', 'T', 'T', 'T', 'G', 'T', 'T', 'T', 'A', 'A', 'A', 'T', 'T', 'A', 'G', 'T', 'T', 'T', 'C')\n",
            "('A', 'C', 'C', 'A', 'G', 'C', 'A', 'G', 'G', 'A', 'G', 'G', 'T', 'G', 'A', 'T', 'G', 'A', 'A', 'A', 'T', 'G', 'A', 'G', 'T', 'G', 'C', 'G', 'C', 'A', 'A', 'G', 'T', 'T', 'T', 'C', 'A', 'C', 'T', 'A', 'G', 'A', 'G', 'T', 'T', 'A', 'C', 'A', 'T', 'C')\n",
            "('A', 'A', 'A', 'A', 'T', 'A', 'C', 'A', 'G', 'G', 'G', 'C', 'T', 'G', 'G', 'A', 'A', 'T', 'C', 'A', 'T', 'C', 'C', 'G', 'G', 'C', 'C', 'C', 'T', 'T', 'T', 'T', 'T', 'T', 'C', 'T', 'G', 'A', 'T', 'A', 'T', 'G', 'A', 'T', 'A', 'C', 'G', 'C', 'A', 'A')\n",
            "('T', 'C', 'A', 'G', 'A', 'A', 'A', 'T', 'A', 'T', 'T', 'A', 'T', 'G', 'G', 'T', 'G', 'A', 'T', 'G', 'A', 'A', 'C', 'T', 'G', 'T', 'T', 'T', 'T', 'T', 'T', 'T', 'A', 'T', 'C', 'C', 'A', 'G', 'T', 'A', 'T', 'A', 'A', 'T', 'T', 'T', 'G', 'T', 'T', 'G')\n",
            "('C', 'T', 'A', 'G', 'T', 'G', 'C', 'A', 'A', 'G', 'C', 'A', 'A', 'A', 'G', 'T', 'T', 'G', 'C', 'T', 'A', 'C', 'T', 'T', 'T', 'G', 'G', 'A', 'C', 'A', 'T', 'T', 'A', 'A', 'C', 'A', 'G', 'C', 'T', 'T', 'C', 'A', 'A', 'T', 'A', 'A', 'T', 'G', 'G', 'T')\n",
            "('A', 'A', 'T', 'A', 'C', 'A', 'A', 'A', 'C', 'G', 'T', 'C', 'G', 'T', 'A', 'T', 'C', 'C', 'C', 'T', 'G', 'A', 'A', 'C', 'G', 'G', 'A', 'T', 'T', 'G', 'T', 'T', 'T', 'T', 'C', 'T', 'G', 'T', 'T', 'A', 'A', 'G', 'T', 'T', 'C', 'A', 'G', 'G', 'T', 'T')\n",
            "('T', 'T', 'T', 'C', 'T', 'T', 'A', 'C', 'G', 'G', 'C', 'C', 'G', 'G', 'T', 'T', 'G', 'C', 'G', 'G', 'T', 'C', 'G', 'G', 'C', 'G', 'A', 'T', 'G', 'T', 'G', 'G', 'T', 'G', 'T', 'G', 'C', 'T', 'G', 'C', 'T', 'A', 'T', 'G', 'C', 'A', 'C', 'G', 'C', 'T')\n",
            "('C', 'C', 'A', 'C', 'T', 'C', 'G', 'C', 'C', 'G', 'G', 'T', 'A', 'T', 'C', 'A', 'T', 'C', 'C', 'A', 'T', 'C', 'C', 'G', 'C', 'T', 'G', 'T', 'A', 'A', 'A', 'A', 'A', 'C', 'A', 'G', 'C', 'C', 'C', 'C', 'T', 'G', 'A', 'C', 'G', 'C', 'T', 'C', 'A', 'A')\n",
            "('G', 'G', 'G', 'T', 'C', 'A', 'A', 'C', 'T', 'G', 'A', 'T', 'T', 'G', 'A', 'C', 'G', 'G', 'C', 'G', 'T', 'C', 'T', 'G', 'G', 'C', 'A', 'T', 'G', 'A', 'C', 'A', 'C', 'C', 'T', 'G', 'G', 'T', 'A', 'C', 'G', 'A', 'T', 'A', 'C', 'C', 'A', 'A', 'A', 'T')\n",
            "('T', 'G', 'C', 'C', 'A', 'A', 'C', 'A', 'A', 'T', 'C', 'T', 'T', 'T', 'G', 'A', 'T', 'G', 'G', 'C', 'T', 'G', 'A', 'A', 'A', 'T', 'G', 'T', 'C', 'A', 'T', 'G', 'G', 'T', 'C', 'G', 'T', 'T', 'T', 'A', 'C', 'T', 'A', 'T', 'A', 'A', 'C', 'C', 'G', 'T')\n",
            "('T', 'T', 'C', 'A', 'C', 'T', 'A', 'T', 'G', 'C', 'A', 'C', 'A', 'A', 'T', 'T', 'T', 'T', 'T', 'A', 'A', 'A', 'A', 'A', 'C', 'C', 'A', 'A', 'G', 'G', 'A', 'T', 'T', 'A', 'G', 'C', 'A', 'A', 'T', 'A', 'T', 'A', 'A', 'T', 'A', 'A', 'T', 'C', 'C', 'C')\n",
            "('C', 'A', 'C', 'T', 'G', 'C', 'T', 'T', 'A', 'T', 'T', 'A', 'T', 'C', 'G', 'A', 'C', 'G', 'G', 'C', 'T', 'A', 'A', 'A', 'C', 'T', 'A', 'T', 'T', 'T', 'T', 'T', 'T', 'T', 'G', 'G', 'C', 'T', 'G', 'A', 'T', 'A', 'C', 'T', 'G', 'A', 'T', 'A', 'T', 'C')\n",
            "('T', 'A', 'G', 'T', 'T', 'T', 'A', 'A', 'A', 'T', 'C', 'G', 'T', 'T', 'T', 'C', 'G', 'A', 'A', 'C', 'T', 'T', 'T', 'A', 'T', 'C', 'A', 'A', 'A', 'T', 'A', 'T', 'T', 'T', 'G', 'T', 'T', 'T', 'A', 'A', 'A', 'A', 'A', 'T', 'G', 'A', 'C', 'T', 'A', 'C')\n",
            "('C', 'A', 'A', 'A', 'A', 'T', 'G', 'C', 'T', 'A', 'T', 'C', 'C', 'A', 'C', 'T', 'C', 'T', 'G', 'C', 'A', 'C', 'C', 'C', 'G', 'G', 'T', 'G', 'A', 'T', 'T', 'T', 'A', 'T', 'C', 'A', 'G', 'T', 'T', 'A', 'T', 'T', 'A', 'T', 'G', 'T', 'A', 'A', 'T', 'T')\n",
            "('G', 'T', 'G', 'C', 'G', 'C', 'C', 'A', 'G', 'C', 'A', 'G', 'A', 'T', 'A', 'T', 'T', 'G', 'A', 'C', 'G', 'C', 'C', 'A', 'T', 'T', 'C', 'G', 'C', 'G', 'C', 'C', 'A', 'T', 'T', 'G', 'G', 'C', 'G', 'A', 'A', 'C', 'G', 'T', 'T', 'A', 'C', 'G', 'G', 'C')\n",
            "('T', 'G', 'C', 'C', 'A', 'A', 'A', 'C', 'G', 'C', 'G', 'T', 'C', 'C', 'A', 'T', 'C', 'A', 'C', 'T', 'A', 'C', 'C', 'A', 'G', 'C', 'G', 'C', 'C', 'A', 'C', 'C', 'G', 'G', 'T', 'T', 'T', 'A', 'T', 'T', 'A', 'T', 'T', 'G', 'A', 'T', 'A', 'A', 'C', 'C')\n",
            "('G', 'G', 'A', 'A', 'T', 'T', 'T', 'T', 'C', 'T', 'C', 'G', 'A', 'G', 'C', 'A', 'T', 'A', 'G', 'C', 'C', 'A', 'G', 'A', 'G', 'C', 'C', 'G', 'C', 'A', 'G', 'A', 'A', 'T', 'T', 'T', 'G', 'C', 'T', 'A', 'C', 'G', 'G', 'T', 'T', 'A', 'T', 'A', 'G', 'T')\n",
            "('C', 'C', 'T', 'T', 'G', 'C', 'A', 'G', 'C', 'A', 'G', 'G', 'C', 'G', 'C', 'T', 'T', 'G', 'A', 'T', 'G', 'T', 'T', 'G', 'A', 'G', 'C', 'A', 'C', 'C', 'T', 'T', 'G', 'C', 'C', 'G', 'A', 'T', 'G', 'A', 'C', 'G', 'A', 'T', 'G', 'A', 'T', 'A', 'T', 'C')\n",
            "('A', 'A', 'A', 'T', 'C', 'A', 'C', 'T', 'G', 'C', 'C', 'G', 'A', 'A', 'C', 'G', 'T', 'G', 'C', 'G', 'T', 'A', 'C', 'T', 'C', 'T', 'G', 'A', 'C', 'C', 'C', 'T', 'G', 'T', 'C', 'A', 'G', 'G', 'T', 'A', 'T', 'G', 'C', 'T', 'G', 'G', 'C', 'C', 'G', 'A')\n",
            "('C', 'A', 'C', 'C', 'A', 'G', 'C', 'A', 'C', 'C', 'C', 'G', 'T', 'C', 'T', 'G', 'G', 'C', 'C', 'T', 'C', 'A', 'G', 'C', 'T', 'A', 'A', 'T', 'G', 'G', 'G', 'T', 'C', 'G', 'C', 'G', 'G', 'G', 'T', 'A', 'A', 'C', 'A', 'T', 'T', 'T', 'T', 'T', 'C', 'A')\n",
            "('T', 'T', 'G', 'C', 'A', 'G', 'C', 'A', 'C', 'G', 'A', 'T', 'T', 'T', 'T', 'T', 'T', 'G', 'A', 'C', 'C', 'A', 'G', 'C', 'C', 'A', 'T', 'T', 'C', 'C', 'A', 'T', 'T', 'G', 'C', 'A', 'T', 'T', 'A', 'T', 'C', 'C', 'T', 'G', 'T', 'T', 'T', 'G', 'C', 'T')\n",
            "('G', 'A', 'G', 'T', 'A', 'A', 'G', 'A', 'G', 'A', 'A', 'A', 'G', 'C', 'A', 'C', 'T', 'A', 'T', 'T', 'T', 'T', 'A', 'C', 'G', 'C', 'G', 'T', 'T', 'A', 'C', 'A', 'G', 'T', 'G', 'C', 'T', 'G', 'C', 'G', 'A', 'C', 'A', 'A', 'T', 'G', 'G', 'C', 'C', 'G')\n",
            "('T', 'T', 'G', 'G', 'G', 'G', 'A', 'C', 'A', 'A', 'A', 'A', 'A', 'A', 'G', 'C', 'T', 'C', 'A', 'G', 'T', 'A', 'T', 'T', 'C', 'T', 'C', 'G', 'T', 'T', 'G', 'G', 'C', 'A', 'A', 'C', 'C', 'A', 'G', 'A', 'T', 'A', 'A', 'T', 'T', 'T', 'A', 'A', 'C', 'A')\n",
            "('G', 'C', 'C', 'A', 'G', 'C', 'C', 'C', 'C', 'A', 'T', 'C', 'C', 'A', 'C', 'A', 'C', 'C', 'A', 'G', 'T', 'T', 'C', 'C', 'A', 'G', 'C', 'G', 'T', 'A', 'C', 'C', 'G', 'C', 'C', 'G', 'G', 'T', 'T', 'A', 'A', 'A', 'A', 'T', 'T', 'C', 'C', 'G', 'G', 'T')\n",
            "('T', 'G', 'A', 'C', 'A', 'A', 'C', 'A', 'C', 'G', 'G', 'G', 'C', 'A', 'G', 'T', 'T', 'G', 'A', 'T', 'A', 'A', 'T', 'C', 'A', 'A', 'T', 'G', 'G', 'C', 'C', 'T', 'G', 'G', 'C', 'C', 'C', 'C', 'C', 'A', 'C', 'A', 'T', 'T', 'C', 'A', 'T', 'A', 'T', 'C')\n",
            "('C', 'T', 'T', 'T', 'A', 'A', 'T', 'T', 'C', 'T', 'T', 'T', 'C', 'T', 'T', 'G', 'C', 'A', 'C', 'G', 'C', 'T', 'A', 'A', 'T', 'C', 'C', 'T', 'T', 'A', 'A', 'A', 'C', 'C', 'T', 'T', 'A', 'A', 'T', 'T', 'A', 'T', 'G', 'A', 'G', 'T', 'G', 'G', 'T', 'C')\n",
            "('G', 'A', 'T', 'G', 'C', 'G', 'C', 'G', 'A', 'G', 'G', 'T', 'C', 'A', 'C', 'G', 'G', 'C', 'A', 'G', 'C', 'T', 'T', 'T', 'G', 'A', 'T', 'G', 'C', 'C', 'A', 'C', 'A', 'A', 'C', 'T', 'G', 'A', 'T', 'A', 'A', 'C', 'G', 'T', 'G', 'C', 'G', 'G', 'T', 'C')\n",
            "('A', 'T', 'G', 'C', 'A', 'C', 'A', 'A', 'A', 'A', 'A', 'T', 'A', 'A', 'T', 'C', 'A', 'T', 'A', 'A', 'T', 'T', 'A', 'T', 'T', 'T', 'T', 'C', 'T', 'G', 'A', 'G', 'A', 'T', 'G', 'C', 'A', 'T', 'T', 'A', 'T', 'G', 'A', 'T', 'A', 'T', 'G', 'A', 'A', 'C')\n",
            "('T', 'G', 'C', 'C', 'A', 'A', 'A', 'A', 'G', 'T', 'A', 'C', 'T', 'G', 'C', 'T', 'G', 'G', 'C', 'A', 'C', 'T', 'A', 'T', 'A', 'C', 'C', 'A', 'G', 'A', 'G', 'A', 'A', 'T', 'G', 'A', 'A', 'C', 'A', 'T', 'A', 'C', 'T', 'G', 'G', 'A', 'T', 'T', 'G', 'C')\n",
            "('C', 'G', 'T', 'G', 'G', 'C', 'T', 'A', 'A', 'A', 'A', 'A', 'C', 'C', 'T', 'G', 'T', 'T', 'A', 'T', 'G', 'A', 'C', 'G', 'C', 'G', 'C', 'A', 'A', 'A', 'A', 'C', 'G', 'A', 'T', 'G', 'C', 'C', 'A', 'T', 'G', 'C', 'T', 'G', 'G', 'A', 'T', 'G', 'A', 'C')\n",
            "('T', 'C', 'T', 'G', 'G', 'C', 'A', 'G', 'C', 'A', 'C', 'A', 'C', 'A', 'A', 'T', 'C', 'T', 'A', 'C', 'T', 'G', 'C', 'C', 'T', 'G', 'C', 'G', 'T', 'A', 'A', 'G', 'G', 'A', 'A', 'T', 'G', 'G', 'G', 'T', 'A', 'A', 'G', 'A', 'T', 'G', 'A', 'A', 'C', 'C')\n",
            "('C', 'G', 'T', 'C', 'C', 'A', 'T', 'A', 'A', 'A', 'T', 'T', 'T', 'C', 'G', 'C', 'T', 'G', 'G', 'T', 'A', 'T', 'A', 'T', 'G', 'G', 'C', 'A', 'C', 'G', 'A', 'C', 'A', 'G', 'T', 'T', 'T', 'T', 'T', 'A', 'A', 'C', 'A', 'T', 'G', 'T', 'C', 'G', 'C', 'C')\n",
            "('A', 'T', 'G', 'A', 'T', 'A', 'T', 'C', 'G', 'C', 'A', 'C', 'A', 'G', 'C', 'T', 'T', 'A', 'A', 'G', 'T', 'T', 'T', 'C', 'T', 'C', 'T', 'G', 'T', 'G', 'A', 'A', 'A', 'C', 'C', 'C', 'T', 'G', 'T', 'A', 'T', 'C', 'A', 'T', 'G', 'A', 'C', 'T', 'G', 'C')\n",
            "('C', 'C', 'A', 'T', 'C', 'G', 'G', 'C', 'G', 'C', 'T', 'T', 'A', 'G', 'C', 'G', 'G', 'A', 'T', 'G', 'C', 'G', 'A', 'A', 'A', 'A', 'G', 'C', 'A', 'G', 'G', 'A', 'G', 'G', 'G', 'G', 'T', 'T', 'A', 'A', 'A', 'A', 'T', 'C', 'C', 'A', 'G', 'A', 'C', 'C')\n",
            "('C', 'A', 'C', 'A', 'C', 'G', 'G', 'A', 'T', 'G', 'A', 'G', 'A', 'G', 'A', 'C', 'A', 'G', 'C', 'C', 'T', 'C', 'C', 'T', 'C', 'T', 'C', 'C', 'T', 'C', 'C', 'G', 'T', 'G', 'T', 'G', 'T', 'T', 'A', 'C', 'T', 'A', 'T', 'A', 'A', 'A', 'A', 'G', 'T', 'T')\n",
            "('C', 'C', 'T', 'G', 'A', 'A', 'G', 'C', 'T', 'C', 'G', 'G', 'T', 'T', 'T', 'T', 'C', 'T', 'G', 'G', 'T', 'G', 'A', 'A', 'G', 'C', 'A', 'A', 'C', 'C', 'G', 'G', 'A', 'A', 'G', 'A', 'G', 'C', 'C', 'G', 'T', 'G', 'G', 'T', 'T', 'C', 'C', 'A', 'G', 'A')\n",
            "('T', 'G', 'T', 'G', 'G', 'T', 'T', 'T', 'T', 'A', 'A', 'T', 'A', 'T', 'C', 'C', 'A', 'G', 'G', 'C', 'T', 'G', 'T', 'C', 'A', 'T', 'T', 'G', 'A', 'G', 'T', 'T', 'T', 'G', 'T', 'A', 'A', 'T', 'A', 'T', 'C', 'C', 'T', 'G', 'T', 'C', 'T', 'G', 'A', 'T')\n",
            "('T', 'T', 'C', 'T', 'G', 'C', 'G', 'G', 'T', 'A', 'C', 'A', 'A', 'A', 'G', 'C', 'G', 'C', 'A', 'C', 'G', 'C', 'T', 'G', 'T', 'C', 'T', 'C', 'C', 'C', 'G', 'G', 'A', 'C', 'G', 'T', 'A', 'A', 'T', 'A', 'A', 'G', 'A', 'T', 'G', 'G', 'G', 'T', 'T', 'C')\n",
            "loaded 14098 lines in dataset\n",
            "WARNING:tensorflow:From /usr/local/lib/python3.10/dist-packages/tensorflow/python/util/dispatch.py:1260: calling conv1d (from tensorflow.python.ops.nn_ops) with data_format=NCHW is deprecated and will be removed in a future version.\n",
            "Instructions for updating:\n",
            "`NCHW` for data_format is deprecated, use `NCW` instead\n",
            "validation set JSD for n=1: 0.00011227797432878677\n",
            "validation set JSD for n=2: 0.00032064283889107574\n",
            "validation set JSD for n=3: 0.0010038809572553852\n",
            "validation set JSD for n=4: 0.003676091431973619\n",
            "2024-02-05 06:23:16.979768: W tensorflow/core/common_runtime/gpu/gpu_bfc_allocator.cc:47] Overriding orig_value setting because the TF_FORCE_GPU_ALLOW_GROWTH environment variable is set. Original config value was 0.\n",
            "iter 99\ttime\t0.9358312702178955\ttrain disc cost\t-3.6195387840270996\tjs1\t0.006039938423452651\tjs2\t0.01770338224996052\tjs3\t0.05113272281420276\tjs4\t0.0959806836594729\n",
            "iter 199\ttime\t0.908983302116394\ttrain disc cost\t-1.6081451177597046\tjs1\t0.0038538054355657923\tjs2\t0.016269759415949128\tjs3\t0.04034322305173767\tjs4\t0.07215927041839716\n",
            "iter 299\ttime\t0.9093800640106201\ttrain disc cost\t-1.651768445968628\tjs1\t0.005880479013146122\tjs2\t0.015844765493265363\tjs3\t0.03302280572003316\tjs4\t0.05654958759728691\n",
            "iter 399\ttime\t0.9077029085159302\ttrain disc cost\t-1.5195924043655396\tjs1\t0.0016496291746459074\tjs2\t0.007424868482515667\tjs3\t0.02002897829003987\tjs4\t0.03564065805632694\n",
            "WARNING:tensorflow:From /usr/local/lib/python3.10/dist-packages/tensorflow/python/training/saver.py:1067: remove_checkpoint (from tensorflow.python.checkpoint.checkpoint_management) is deprecated and will be removed in a future version.\n",
            "Instructions for updating:\n",
            "Use standard file APIs to delete files with this prefix.\n",
            "iter 499\ttime\t0.9079173421859741\ttrain disc cost\t-1.308148980140686\tjs1\t0.0031985941094900736\tjs2\t0.009840761372321039\tjs3\t0.02187349166517246\tjs4\t0.036312176566116426\n",
            "iter 599\ttime\t0.9066771697998047\ttrain disc cost\t-1.2025213241577148\tjs1\t0.000791662281353112\tjs2\t0.0020259610242184018\tjs3\t0.009378944673579118\tjs4\t0.021064480045071072\n",
            "iter 699\ttime\t0.9058376836776734\ttrain disc cost\t-1.2262072563171387\tjs1\t0.003903311396488324\tjs2\t0.010296861950723626\tjs3\t0.022116183636288117\tjs4\t0.03766573853047176\n",
            "iter 799\ttime\t0.9052372026443481\ttrain disc cost\t-1.2545006275177002\tjs1\t0.000583653782506374\tjs2\t0.0035869989335271433\tjs3\t0.009302843866168658\tjs4\t0.02018764524765017\n",
            "iter 899\ttime\t0.9018092226982116\ttrain disc cost\t-1.2314728498458862\tjs1\t0.0017230119022511243\tjs2\t0.0050737155407880544\tjs3\t0.011597180992247694\tjs4\t0.0231034132661905\n",
            "iter 999\ttime\t0.8966732096672058\ttrain disc cost\t-1.3530060052871704\tjs1\t0.0004888803299584769\tjs2\t0.001551729539077615\tjs3\t0.006097710563331269\tjs4\t0.014652672854376145\n",
            "iter 1099\ttime\t0.8943764662742615\ttrain disc cost\t-1.3497025966644287\tjs1\t0.0032041518769963875\tjs2\t0.006487815669608978\tjs3\t0.012504142577710564\tjs4\t0.022539403489950274\n",
            "iter 1199\ttime\t0.8937823343276977\ttrain disc cost\t-1.3322490453720093\tjs1\t0.004664048876197152\tjs2\t0.01041230738480866\tjs3\t0.020871502116907012\tjs4\t0.034994858011815136\n",
            "iter 1299\ttime\t0.8930595278739929\ttrain disc cost\t-1.4176080226898193\tjs1\t0.0014431203242449325\tjs2\t0.004763421114068796\tjs3\t0.010950447333247989\tjs4\t0.02127910863638033\n",
            "iter 1399\ttime\t0.8930754256248474\ttrain disc cost\t-1.4851276874542236\tjs1\t0.0006999225634329503\tjs2\t0.0022967276478630047\tjs3\t0.008390574286677669\tjs4\t0.018762631816889613\n",
            "iter 1499\ttime\t0.8934896945953369\ttrain disc cost\t-1.5281317234039307\tjs1\t0.0010078562188212863\tjs2\t0.003914367361834802\tjs3\t0.010095006798527605\tjs4\t0.02046899397495491\n",
            "iter 1599\ttime\t0.8941150546073914\ttrain disc cost\t-1.540043830871582\tjs1\t0.00041516355412385284\tjs2\t0.002975781053355091\tjs3\t0.008005142084067845\tjs4\t0.017546507032435647\n",
            "iter 1699\ttime\t0.8932026481628418\ttrain disc cost\t-1.5732556581497192\tjs1\t0.0014470675982400925\tjs2\t0.005127639160562903\tjs3\t0.011210725131718918\tjs4\t0.02205399752728718\n",
            "iter 1799\ttime\t0.8938195133209228\ttrain disc cost\t-1.5263304710388184\tjs1\t0.00070894237801899\tjs2\t0.002835832663312216\tjs3\t0.007850564271784526\tjs4\t0.017177719915810047\n",
            "Traceback (most recent call last):\n",
            "  File \"/content/drive/My Drive/Github/Deep_promoter/gan_language.py\", line 173, in <module>\n",
            "    _disc_cost, _ = session.run(\n",
            "  File \"/usr/local/lib/python3.10/dist-packages/tensorflow/python/client/session.py\", line 972, in run\n",
            "    result = self._run(None, fetches, feed_dict, options_ptr,\n",
            "  File \"/usr/local/lib/python3.10/dist-packages/tensorflow/python/client/session.py\", line 1215, in _run\n",
            "    results = self._do_run(handle, final_targets, final_fetches,\n",
            "  File \"/usr/local/lib/python3.10/dist-packages/tensorflow/python/client/session.py\", line 1395, in _do_run\n",
            "    return self._do_call(_run_fn, feeds, fetches, targets, options,\n",
            "  File \"/usr/local/lib/python3.10/dist-packages/tensorflow/python/client/session.py\", line 1402, in _do_call\n",
            "    return fn(*args)\n",
            "  File \"/usr/local/lib/python3.10/dist-packages/tensorflow/python/client/session.py\", line 1385, in _run_fn\n",
            "    return self._call_tf_sessionrun(options, feed_dict, fetch_list,\n",
            "  File \"/usr/local/lib/python3.10/dist-packages/tensorflow/python/client/session.py\", line 1478, in _call_tf_sessionrun\n",
            "    return tf_session.TF_SessionRun_wrapper(self._session, options, feed_dict,\n",
            "KeyboardInterrupt\n",
            "^C\n"
          ]
        }
      ]
    },
    {
      "cell_type": "code",
      "source": [],
      "metadata": {
        "id": "M3ZKzMbn7yQq"
      },
      "execution_count": null,
      "outputs": []
    }
  ]
}