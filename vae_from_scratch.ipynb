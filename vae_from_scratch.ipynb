{
  "nbformat": 4,
  "nbformat_minor": 0,
  "metadata": {
    "colab": {
      "provenance": [],
      "authorship_tag": "ABX9TyPAYuI+18y5dVdaNgVeFKtv",
      "include_colab_link": true
    },
    "kernelspec": {
      "name": "python3",
      "display_name": "Python 3"
    },
    "language_info": {
      "name": "python"
    }
  },
  "cells": [
    {
      "cell_type": "markdown",
      "metadata": {
        "id": "view-in-github",
        "colab_type": "text"
      },
      "source": [
        "<a href=\"https://colab.research.google.com/github/alexchen1999/Deep_promoter/blob/master/vae_from_scratch.ipynb\" target=\"_parent\"><img src=\"https://colab.research.google.com/assets/colab-badge.svg\" alt=\"Open In Colab\"/></a>"
      ]
    },
    {
      "cell_type": "code",
      "execution_count": 1,
      "metadata": {
        "id": "QV7PCsi8nxw9"
      },
      "outputs": [],
      "source": [
        "import torch\n",
        "import torch.nn.functional as F\n",
        "\n",
        "from torch import nn"
      ]
    },
    {
      "cell_type": "code",
      "source": [
        "class VariationalAutoEncoder(nn.Module):\n",
        "  def __init__(self, input_dim, h_dim=200, z_dim=20):\n",
        "    super().__init__()\n",
        "\n",
        "    # Encoder\n",
        "    self.img_2hid = nn.Linear(input_dim, h_dim)\n",
        "    self.hid_2mu = nn.Linear(h_dim, z_dim)\n",
        "    self.hid_2sigma = nn.Linear(h_dim, z_dim)\n",
        "\n",
        "    # Decoder\n",
        "    self.z_2hid = nn.Linear(z_dim, h_dim)\n",
        "    self.hid_2img = nn.Linear(h_dim, input_dim)\n",
        "\n",
        "    self.relu = nn.ReLU()\n",
        "\n",
        "  def encode(self, x):\n",
        "    h = self.relu(self.img_2hid(x))\n",
        "    mu, sigma = self.hid_2mu(h), self.hid_2sigma(h)\n",
        "    return mu, sigma\n",
        "\n",
        "  def decode(self, z):\n",
        "    h = self.z_2hid(z)\n",
        "    return torch.sigmoid(self.hid_2img(h)) # Scale from 0 to 1 because MNIST is standardized\n",
        "\n",
        "  def forward(self, x):\n",
        "    mu, sigma = self.encode(x)\n",
        "\n",
        "    # Reparameterization trick\n",
        "    epsilon = torch.randn_like(sigma) # see https://pytorch.org/docs/stable/generated/torch.randn_like.html: sampling from Gaussian with same tensor shape\n",
        "    z_reparameterized = mu + sigma * epsilon\n",
        "\n",
        "    x_reconstructed = self.decode(z_reparameterized)\n",
        "\n",
        "    return x, mu, sigma"
      ],
      "metadata": {
        "id": "PN4FZP4dn0bU"
      },
      "execution_count": 4,
      "outputs": []
    },
    {
      "cell_type": "code",
      "source": [
        "x = torch.randn(4, 28 * 28)\n",
        "vae = VariationalAutoEncoder(input_dim=784)\n",
        "x_recon, mu, sigma = vae(x)\n",
        "\n",
        "print(x_recon.shape)\n",
        "print(mu.shape)\n",
        "print(sigma.shape)"
      ],
      "metadata": {
        "colab": {
          "base_uri": "https://localhost:8080/"
        },
        "id": "fmsK3CAVubT9",
        "outputId": "5dfe1069-f228-497a-f176-37407ee73d48"
      },
      "execution_count": 5,
      "outputs": [
        {
          "output_type": "stream",
          "name": "stdout",
          "text": [
            "torch.Size([4, 784])\n",
            "torch.Size([4, 20])\n",
            "torch.Size([4, 20])\n"
          ]
        }
      ]
    },
    {
      "cell_type": "code",
      "source": [
        "device = torch.device('cuda' if torch.cuda.is_available() else 'cpu')\n",
        "\n",
        "INPUT_DIM = 784\n",
        "H_DIM = 300\n",
        "Z_DIM = 100\n",
        "\n",
        "NUM_EPOCHS = 10\n",
        "BATCH_SIZE = 64\n",
        "\n",
        "LEARNING_RATE = 0.0005"
      ],
      "metadata": {
        "id": "ohA5vl6Wus1y"
      },
      "execution_count": 18,
      "outputs": []
    },
    {
      "cell_type": "code",
      "source": [
        "import torchvision.datasets as datasets\n",
        "from torchvision import transforms\n",
        "\n",
        "dataset = datasets.MNIST(root=\"dataset/\", train=True, transform=transforms.ToTensor(), download=True)\n",
        "dataset"
      ],
      "metadata": {
        "colab": {
          "base_uri": "https://localhost:8080/"
        },
        "id": "M3HH9W0Mvbdu",
        "outputId": "eb108833-c6c7-46dc-e592-52525c99b023"
      },
      "execution_count": 19,
      "outputs": [
        {
          "output_type": "execute_result",
          "data": {
            "text/plain": [
              "Dataset MNIST\n",
              "    Number of datapoints: 60000\n",
              "    Root location: dataset/\n",
              "    Split: Train\n",
              "    StandardTransform\n",
              "Transform: ToTensor()"
            ]
          },
          "metadata": {},
          "execution_count": 19
        }
      ]
    },
    {
      "cell_type": "code",
      "source": [
        "from torch.utils.data import DataLoader\n",
        "from torch import optim\n",
        "from tqdm import tqdm\n",
        "\n",
        "train_loader = DataLoader(dataset=dataset, batch_size=BATCH_SIZE, shuffle=True)\n",
        "model = VariationalAutoEncoder(INPUT_DIM, H_DIM, Z_DIM).to(device)\n",
        "optimizer = optim.Adam(model.parameters(), lr=LEARNING_RATE)\n",
        "\n",
        "bce_loss = nn.BCELoss(reduction=\"sum\")\n",
        "\n",
        "\n",
        "for epoch in range(NUM_EPOCHS):\n",
        "  loop = tqdm(enumerate(train_loader))\n",
        "\n",
        "  for i, (x, _) in loop:\n",
        "    x = x.to(device).view(x.shape[0], INPUT_DIM)\n",
        "\n",
        "    x_recon, mu, sigma = model(x)\n",
        "\n",
        "    recon_loss = bce_loss(x_recon, x)\n",
        "    kl_div = -torch.sum(1 + torch.log(sigma.pow(2)) - mu.pow(2) - sigma.pow(2))\n",
        "\n",
        "    loss = recon_loss + kl_div\n",
        "    optimizer.zero_grad()\n",
        "    loss.backward()\n",
        "    optimizer.step()\n",
        "    loop.set_postfix(loss=loss.item())"
      ],
      "metadata": {
        "colab": {
          "base_uri": "https://localhost:8080/"
        },
        "id": "g8rSACcvxtyr",
        "outputId": "dec18d28-37e6-42f3-e30c-9f200876002d"
      },
      "execution_count": 20,
      "outputs": [
        {
          "output_type": "stream",
          "name": "stderr",
          "text": [
            "938it [00:21, 43.52it/s, loss=1.66e+3]\n",
            "938it [00:21, 44.64it/s, loss=1.53e+3]\n",
            "938it [00:21, 44.21it/s, loss=1.29e+3]\n",
            "938it [00:32, 29.02it/s, loss=1.55e+3]\n",
            "938it [00:21, 44.42it/s, loss=1.27e+3]\n",
            "938it [00:21, 43.02it/s, loss=1.31e+3]\n",
            "938it [00:21, 43.24it/s, loss=1.43e+3]\n",
            "938it [00:21, 43.42it/s, loss=1.55e+3]\n",
            "938it [00:23, 40.41it/s, loss=1.33e+3]\n",
            "938it [00:26, 35.36it/s, loss=1.45e+3]\n"
          ]
        }
      ]
    },
    {
      "cell_type": "code",
      "source": [
        "import matplotlib.pyplot as plt\n",
        "import torchvision.utils as vutils\n",
        "\n",
        "# Assuming model is already trained\n",
        "\n",
        "# Number of images to generate\n",
        "num_samples = 10\n",
        "\n",
        "# Sample latent vectors from a standard Gaussian distribution\n",
        "with torch.no_grad():\n",
        "    z = torch.randn(num_samples, Z_DIM).to(device)\n",
        "\n",
        "# Pass the latent vectors through the decoder part of the VAE model to generate images\n",
        "with torch.no_grad():\n",
        "    generated_images = model.decode(z)\n",
        "\n",
        "# Reshape generated images to 3D tensor (batch size, channels, height, width) for visualization\n",
        "generated_images = generated_images.view(-1, 1, 28, 28)\n",
        "\n",
        "# Convert the PyTorch tensor to a NumPy array\n",
        "generated_images_numpy = generated_images.cpu().numpy()\n",
        "\n",
        "# Plot the generated images\n",
        "plt.figure(figsize=(10, 5))\n",
        "for i in range(num_samples):\n",
        "    plt.subplot(2, 5, i + 1)\n",
        "    plt.imshow(generated_images_numpy[i, 0], cmap='gray')\n",
        "    plt.axis('off')\n",
        "plt.show()"
      ],
      "metadata": {
        "colab": {
          "base_uri": "https://localhost:8080/",
          "height": 382
        },
        "id": "raKe6ywj0ubR",
        "outputId": "a73d471e-96f5-44ba-dbba-cce1f976bd18"
      },
      "execution_count": 21,
      "outputs": [
        {
          "output_type": "display_data",
          "data": {
            "text/plain": [
              "<Figure size 1000x500 with 10 Axes>"
            ],
            "image/png": "[encoded data removed]"
          },
          "metadata": {}
        }
      ]
    },
    {
      "cell_type": "code",
      "source": [],
      "metadata": {
        "id": "p3R4jsrM2Y6S"
      },
      "execution_count": null,
      "outputs": []
    }
  ]
}